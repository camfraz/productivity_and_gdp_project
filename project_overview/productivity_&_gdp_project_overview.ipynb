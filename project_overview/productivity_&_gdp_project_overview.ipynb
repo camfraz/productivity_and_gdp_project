{
 "cells": [
  {
   "cell_type": "markdown",
   "metadata": {},
   "source": [
    "# Productivity and GDP PDA Report\n",
    "__Cam Fraser__ <br>\n",
    "_27/05/2022 - 08/05/2022_"
   ]
  },
  {
   "cell_type": "markdown",
   "metadata": {},
   "source": [
    "---\n",
    "# Context\n",
    "### Business intelligence and data-driven decision making\n",
    "What insights can the business/organisation gain from your analysis and how will your analysis help the business/organisation make better decisions?\n",
    "\n",
    "### Domain knowledge and the business context\n",
    "\n",
    "Productivity\n",
    "<br>\n",
    "GDP is the __Gross Domestic Product__ of a country and is \n",
    "\n",
    "\n",
    "\n",
    "\n",
    "\n"
   ]
  },
  {
   "cell_type": "markdown",
   "metadata": {},
   "source": [
    "---\n",
    "\n",
    "# Data\n",
    "### Internal and external data sources\n",
    "Briefly describe your data sources and which were internal (provided by the organisation) and external (not sourced from the organisation’s data)\n",
    "\n",
    "### Types of data\n",
    "What kind of data did you work with? E.g. categorical and numerical data and their sub-types.\n",
    "\n",
    "### Data formats\n",
    "What format did your data come in? E.g. all downloaded flat files (CSV) or any data from APIs, scraping etc.\n",
    "\n",
    "### Data quality and bias\n",
    "Briefly describe the quality of the data and whether you have any reasons to suggest the data is biased e.g. only data from a specific demographic even though a broader demographic would be of interest to the organisation."
   ]
  },
  {
   "cell_type": "markdown",
   "metadata": {},
   "source": [
    "---\n",
    "# Ethics\n",
    "### Ethical issues in data sourcing and extraction\n",
    "Do you have any ethical concerns regarding the sourcing and extraction of your data?\n",
    "\n",
    "### Ethical implications of business requirements\n",
    "Are there any ethical implications of the business requirements?"
   ]
  },
  {
   "cell_type": "markdown",
   "metadata": {},
   "source": [
    "---\n",
    "# Analysis\n",
    "### Stages in the data analysis process\n",
    "What were the main stages in your data analysis process?\n",
    "\n",
    "### Tools for data analysis\n",
    "What were the main tools you used for your analysis?\n",
    "\n",
    "### Descriptive, diagnostic, predictive and prescriptive analysis\n",
    "Please report under which of the below categories your analysis falls and why (can be more than one)"
   ]
  },
  {
   "cell_type": "markdown",
   "metadata": {},
   "source": []
  },
  {
   "cell_type": "markdown",
   "metadata": {},
   "source": []
  },
  {
   "cell_type": "markdown",
   "metadata": {},
   "source": []
  },
  {
   "cell_type": "markdown",
   "metadata": {},
   "source": []
  },
  {
   "cell_type": "markdown",
   "metadata": {},
   "source": []
  },
  {
   "cell_type": "markdown",
   "metadata": {},
   "source": []
  },
  {
   "cell_type": "markdown",
   "metadata": {},
   "source": []
  },
  {
   "cell_type": "markdown",
   "metadata": {},
   "source": []
  },
  {
   "cell_type": "markdown",
   "metadata": {},
   "source": []
  }
 ],
 "metadata": {
  "language_info": {
   "name": "python"
  },
  "orig_nbformat": 4
 },
 "nbformat": 4,
 "nbformat_minor": 2
}
