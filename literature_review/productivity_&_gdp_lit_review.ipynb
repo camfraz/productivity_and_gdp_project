{
 "cells": [
  {
   "cell_type": "markdown",
   "metadata": {},
   "source": [
    "# Literature Review\n",
    "\n",
    "__Cam Fraser__ <br>\n",
    "_30/05/2022_"
   ]
  },
  {
   "cell_type": "markdown",
   "metadata": {},
   "source": [
    "# Introduction"
   ]
  },
  {
   "cell_type": "markdown",
   "metadata": {},
   "source": [
    "## GDP\n",
    "\n",
    "__Gross Domestic Product (GDP)__ is the market value of _all goods and services newly produced in a country in specific period of time_ (usually one year) and it is measured in dollars. As GDP is the most common estimate of economic activity of a country, it takes in to account some specifics but excludes others\n",
    "\n",
    "Included:\n",
    "\n",
    "* Goods and services sold for money on the market\n",
    "\n",
    "Excluded:\n",
    "\n",
    "* Unpaid work and non-monetary compensated work\n",
    "* Goods not produced for the marketplace and negotiated goods and services\n",
    "* Black market dealings and illegal activities\n",
    "* Transfer payments\n",
    "* Sales of used goods\n",
    "* Intermediate goods and transactions that are used to produce the final product as these are included in the final products total value\n",
    "\n",
    "#### GDP Calculation\n",
    "\n",
    "GDP can be calculated in three different ways __production__, __expenditure__ and __income__. Here are the three approaches:\n",
    "\n",
    "<br>\n",
    "\n",
    "\\- __Production or Value-Added Approach__ -\n",
    "\n",
    "The reverse of the expenditure appraoch:\n",
    "\n",
    "$ Gross\\ Value\\ Added\\ =\\ Gross\\ Value\\ of\\ Output\\ –\\ Value\\ of\\ Intermediate\\ Consumption $\n",
    "\n",
    "$ GDP\\ =\\ Price\\ of\\ Output\\ -\\ Cost\\ of\\ Inputs$\n",
    "\n",
    "GDP is calculated here as the sum of all value added to products during the production of a process\n",
    "\n",
    "<br>\n",
    "\n",
    "– __Expenditure Approach__ –\n",
    "\n",
    "The most common approach to calcualting GDP\n",
    "\n",
    "$GDP\\ =\\ Consumption\\ +\\ Investment\\ +\\ Government\\ Spending\\ +\\ Net\\ Export$\n",
    "\n",
    "__Consumption__ = All private consumption/ consumer spending in the economy. It includes durable goods, nondurable goods, and services.<br>\n",
    "__Investment__ = All of a country’s investment in capital equipment, housing, etc.<br>\n",
    "__Government Spending__ = All of the country’s government spending. It includes the salaries of government employees, construction, maintenance, etc.<br>\n",
    "__Net Export__ = Net country export – Net country import\n",
    "\n",
    "<br>\n",
    "\n",
    "– __Income Approach__ –\n",
    "\n",
    "$GDP\\ =\\ Total\\ National\\ Income\\ +\\ Sales\\ Taxes\\ +\\ Depreciation\\ +\\ Net\\ Foreign\\ Factor\\ Income$\n",
    "\n",
    "__Total national income__ = Sum of rent, salaries profit.<br>\n",
    "__Sales Taxes__ = Tax imposed by a government on sales of goods and services.<br>\n",
    "__Depreciation__ = the decrease in the value of an asset. <br>\n",
    "__Net Foreign Factor Income__ = Income earned by a foreign factor like the amount a foreign company or foreign person earns from the country. It is also the difference between a country’s citizens and country’s earn.\n",
    "\n",
    "<br>\n",
    "\n",
    "#### GDP per capita\n",
    "\n",
    "It's better to use __GDP per capita__, as some countries will have a higher GDP based on the resources and political situations within countries, but to properly compare GDP between country ratioing it per people in the country standardises GDP and gives better comparisons. This is calculated by dividing the GDP by the number of people in the country, and represents _output per person_. Comparing the amount produced in a country against its popualtion is important, as the popualtion have needs that need to be met. So the more food, clothing, housing, water, medicines and basic necessities a country has - the wealthier, healthier and potentially happier the popualtion will be.\n",
    "\n",
    "GDP per capita is a good measure of the well-being of a country, economy of the country and is a direct measure of the productivity of a country. Usually, a high GDP per capita results in a higher Human Development Index Score $^{1}$. There are many factors to the correlation between HDI and GDP but in general, being able to output more products results in a larger income to the country that can be use to increase the standard of living. \n",
    "\n",
    "One argument from economist to why richer countries have higher GDP scores, is due to _productivity_ in a country - being able to produce more output per worker per hour and generate higher incomes."
   ]
  },
  {
   "cell_type": "markdown",
   "metadata": {},
   "source": [
    "\n",
    "## Productivity\n",
    "\n",
    "__Productivity__ is a measure of the efficiency a country has in producing products but is based on combining the capital labour with the ability to produce more with the same inputs. Basically, it's _a comparison of the output produced with the amount of inputs used it the products production_.\n",
    "\n",
    "To summarise the above, if a country can produce more outputs per hour - the more successful it can be, and this can be measured using productivity and GDP. This can also be true when countries have had major technological advancements in the industries that provide its output. Over time, if the quality of products being outputted by a country improves, then its productivity rating improves and so will its GDP per capita score.\n",
    "\n",
    "There are some limitations for example, it has been seen that countries that have steady increases of productivity and GDP won't always redistribute the increased income fairly - with measures like median family income not increasing alongside this.\n",
    "\n",
    "### Productivity Equation\n",
    "\n",
    "$Labour\\ Productivity\\ =\\ Total\\ Output\\ /\\ Total\\ Input$\n",
    "\n",
    "This is a measure of the GDP per hour worked\n",
    "\n",
    "\n",
    "<br>\n",
    "\n",
    "#### Factors of Productivity\n",
    "\n",
    "Factors of production - the essential resources needed to produce things:\n",
    "* Land and natural resources are the foundations of producitivity, and will cap the productivity limit of a country based on the amount and quality of these resources.\n",
    "* Labour workers to cultivate and create products, a higher number of labour leads to a larger producitivty.\n",
    "* Capital and infrastrucutre that allow resources to be produced into other things. The higher the quality of capital, the higher the quality of products, adn so a higher proce can be placed on produce.\n",
    "* Human capital is the qualtiy of workers - this can be split into education, knowledge and skill of workers which plays a role in the efficiency and the quality of producitivty.\n",
    "The quantity and qualtiy of the factors of production in a country is the first step to having good productivity. Another factor in producitivty, is __technology__ or the sum total knowledge and information that a country has concerning the use of resources to produce goods and services.\n",
    "\n",
    "In recent years, the advancements in technology specifically in regards to the creating of the internet, has allowed producitivity to increase at an exponential rate - this is a result of __connectivity__ of technology.\n",
    "\n",
    "In summary, the reasoning for a country doing well is a result of how good the country's productivity is."
   ]
  },
  {
   "cell_type": "markdown",
   "metadata": {},
   "source": []
  },
  {
   "cell_type": "markdown",
   "metadata": {},
   "source": []
  },
  {
   "cell_type": "markdown",
   "metadata": {},
   "source": [
    "---\n",
    "\n",
    "## References\n",
    "\n",
    "1. __GDP as a Measure of Economic Well-being__ (2018). K Dynan & L Sheiner. _Hutchins Center on Fiscal & Monetary Policy_\n"
   ]
  },
  {
   "cell_type": "markdown",
   "metadata": {},
   "source": []
  }
 ],
 "metadata": {
  "interpreter": {
   "hash": "d5072962b2302bb1592bb1dcaa3369c4c15be5c8b270672450a741a764057d80"
  },
  "kernelspec": {
   "display_name": "Python 3.9.12 ('python39')",
   "language": "python",
   "name": "python3"
  },
  "language_info": {
   "codemirror_mode": {
    "name": "ipython",
    "version": 3
   },
   "file_extension": ".py",
   "mimetype": "text/x-python",
   "name": "python",
   "nbconvert_exporter": "python",
   "pygments_lexer": "ipython3",
   "version": "3.9.12"
  },
  "orig_nbformat": 4
 },
 "nbformat": 4,
 "nbformat_minor": 2
}
